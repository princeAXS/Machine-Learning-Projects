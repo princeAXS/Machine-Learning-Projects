{
 "cells": [
  {
   "cell_type": "code",
   "execution_count": 1,
   "metadata": {},
   "outputs": [],
   "source": [
    "# =======Importing the libraries=======\n",
    "\n",
    "import numpy as np\n",
    "import matplotlib.pyplot as plt\n",
    "import pandas as pd\n",
    "\n",
    "from sklearn.preprocessing import Imputer,LabelEncoder, OneHotEncoder, StandardScaler\n",
    "\n",
    "from sklearn.linear_model import LogisticRegression\n",
    "from sklearn.svm import SVC\n",
    "from sklearn.ensemble import RandomForestClassifier\n",
    "\n",
    "from sklearn.model_selection import cross_val_score,train_test_split, GridSearchCV\n",
    "from sklearn.metrics import confusion_matrix,precision_score, recall_score, f1_score\n",
    "\n",
    "from sklearn.decomposition import PCA\n",
    "import statsmodels.formula.api as sm\n",
    "from matplotlib.colors import ListedColormap"
   ]
  },
  {
   "cell_type": "code",
   "execution_count": 2,
   "metadata": {
    "collapsed": true
   },
   "outputs": [],
   "source": [
    "# =======Useful functions=======\n",
    "\n",
    "def simplifyQTY(data):\n",
    "    temp = data.replace('M3','').rstrip()\n",
    "    temp = temp.replace('m3','').rstrip()\n",
    "    return float(temp)\n",
    "\n",
    "def normalizeConcSRC(data):\n",
    "    if \"ACC\" in data:\n",
    "        return \"ACC\"\n",
    "    else:\n",
    "        return data\n",
    "    \n",
    "def categoriesStrength(row):\n",
    "    \n",
    "    if 0 <= row['Comp. Strength in %'] < 100:\n",
    "        return 0\n",
    "    \n",
    "    if 100 <= row['Comp. Strength in %']:\n",
    "        return 1\n",
    "    \n",
    "def removeUnderscore(data):\n",
    "    temp = data.replace('-','').rstrip()\n",
    "    return temp"
   ]
  },
  {
   "cell_type": "code",
   "execution_count": 3,
   "metadata": {
    "collapsed": true
   },
   "outputs": [],
   "source": [
    "# =======Importing the dataset=======\n",
    "dataset = pd.read_csv('cube.csv')"
   ]
  },
  {
   "cell_type": "code",
   "execution_count": 4,
   "metadata": {},
   "outputs": [],
   "source": [
    "# =======Data Preporcessing==========\n",
    "\n",
    "# removing last row as it contains Na in every col\n",
    "dataset.drop(dataset.index[len(dataset)-1], inplace=True)    \n",
    "\n",
    "# removing the metric unit and converting data into float\n",
    "dataset['Qty.'] = dataset['Qty.'].apply(simplifyQTY)\n",
    "\n",
    "# uniforming the data, for eg: T5 and T-5 are smiliar but different format, \n",
    "dataset['Concrete Grade'] = dataset['Concrete Grade'].apply(removeUnderscore)\n",
    "\n",
    "dataset['Concrete Source'] = dataset['Concrete Source'].apply(normalizeConcSRC)\n",
    "\n",
    "# making ranges(>100 & <100) from numeric data\n",
    "dataset['category'] = dataset.apply (lambda row: categoriesStrength (row),axis=1)    "
   ]
  },
  {
   "cell_type": "code",
   "execution_count": 5,
   "metadata": {
    "collapsed": true
   },
   "outputs": [],
   "source": [
    "# sSperating dependent and independent variable in X and y respectively\n",
    "X = dataset.iloc[:, :-2].values\n",
    "y = dataset.iloc[:, -1].values"
   ]
  },
  {
   "cell_type": "code",
   "execution_count": 6,
   "metadata": {
    "collapsed": true
   },
   "outputs": [],
   "source": [
    "# taking care of missing data\n",
    "imputer = Imputer(missing_values = 'NaN', strategy = 'mean', axis = 0)\n",
    "imputer = imputer.fit(X[:, 2:9])\n",
    "X[:, 2:9] = imputer.transform(X[:, 2:9])\n"
   ]
  },
  {
   "cell_type": "code",
   "execution_count": 7,
   "metadata": {
    "collapsed": true
   },
   "outputs": [],
   "source": [
    "# hot encoding of categorical  variable\n",
    "labelencoder_X = LabelEncoder()\n",
    "X[:, 0] = labelencoder_X.fit_transform(X[:, 0])\n",
    "X[:, 1] = labelencoder_X.fit_transform(X[:, 1])\n",
    "onehotencoder = OneHotEncoder(categorical_features = [0,1])\n",
    "X = onehotencoder.fit_transform(X).toarray()"
   ]
  },
  {
   "cell_type": "code",
   "execution_count": 8,
   "metadata": {
    "collapsed": true
   },
   "outputs": [],
   "source": [
    "# to avoid dummy trap\n",
    "X = np.delete(X, 0, 1) \n",
    "X = np.delete(X, 4, 1)"
   ]
  },
  {
   "cell_type": "code",
   "execution_count": 9,
   "metadata": {
    "collapsed": true
   },
   "outputs": [],
   "source": [
    "# train and test split\n",
    "X_train, X_test, y_train, y_test = train_test_split(X, y, test_size = 0.2, random_state = 0)"
   ]
  },
  {
   "cell_type": "code",
   "execution_count": 10,
   "metadata": {
    "collapsed": true
   },
   "outputs": [],
   "source": [
    "# Feature Scaling\n",
    "sc = StandardScaler()\n",
    "X_train = sc.fit_transform(X_train)\n",
    "X_test = sc.transform(X_test)"
   ]
  },
  {
   "cell_type": "code",
   "execution_count": 11,
   "metadata": {},
   "outputs": [
    {
     "data": {
      "text/plain": [
       "LogisticRegression(C=1.0, class_weight=None, dual=False, fit_intercept=True,\n",
       "          intercept_scaling=1, max_iter=100, multi_class='ovr', n_jobs=1,\n",
       "          penalty='l2', random_state=0, solver='liblinear', tol=0.0001,\n",
       "          verbose=0, warm_start=False)"
      ]
     },
     "execution_count": 11,
     "metadata": {},
     "output_type": "execute_result"
    }
   ],
   "source": [
    "# ================================================ Data Modelling: Model 1 ======================================================\n",
    "\n",
    "# Fitting Logistic Regression to the Training set\n",
    "classifierLR = LogisticRegression(random_state = 0)\n",
    "classifierLR.fit(X_train, y_train)"
   ]
  },
  {
   "cell_type": "code",
   "execution_count": 12,
   "metadata": {},
   "outputs": [
    {
     "data": {
      "text/plain": [
       "array([[276,   3],\n",
       "       [  7, 177]], dtype=int64)"
      ]
     },
     "execution_count": 12,
     "metadata": {},
     "output_type": "execute_result"
    }
   ],
   "source": [
    "y_pred_LR = classifierLR.predict(X_test)\n",
    "\n",
    "# Making the Confusion Matrix\n",
    "confusion_matrix(y_test, y_pred_LR)"
   ]
  },
  {
   "cell_type": "code",
   "execution_count": 13,
   "metadata": {},
   "outputs": [
    {
     "name": "stdout",
     "output_type": "stream",
     "text": [
      "Accuracy: 97.03%\n",
      "Accuracy STD: 1.11%\n"
     ]
    }
   ],
   "source": [
    "# Applying k-Fold Cross Validation\n",
    "accuracies = cross_val_score(estimator = classifierLR, X = X_train, y = y_train, cv = 10)\n",
    "print(\"Accuracy: {}%\".format(round(accuracies.mean()*100, 2))) \n",
    "print(\"Accuracy STD: {}%\".format(round(accuracies.std()*100, 2)))"
   ]
  },
  {
   "cell_type": "code",
   "execution_count": 14,
   "metadata": {},
   "outputs": [
    {
     "name": "stdout",
     "output_type": "stream",
     "text": [
      "Grid Search result: Best Score = 0.9832432432432432 Best Param = {'C': 100}\n"
     ]
    }
   ],
   "source": [
    "# Applying Grid Search to find the best model and the best parameters\n",
    "parameters = [{'C': [1, 10, 100, 1000]}]\n",
    "grid_search = GridSearchCV(estimator = classifierLR,\n",
    "                           param_grid = parameters,\n",
    "                           scoring = 'accuracy',\n",
    "                           cv = 10)\n",
    "grid_search = grid_search.fit(X_train, y_train)\n",
    "\n",
    "print(\"Grid Search result: Best Score = {} Best Param = {}\".format(grid_search.best_score_,grid_search.best_params_))"
   ]
  },
  {
   "cell_type": "code",
   "execution_count": 15,
   "metadata": {},
   "outputs": [
    {
     "data": {
      "text/plain": [
       "LogisticRegression(C=100, class_weight=None, dual=False, fit_intercept=True,\n",
       "          intercept_scaling=1, max_iter=100, multi_class='ovr', n_jobs=1,\n",
       "          penalty='l2', random_state=0, solver='liblinear', tol=0.0001,\n",
       "          verbose=0, warm_start=False)"
      ]
     },
     "execution_count": 15,
     "metadata": {},
     "output_type": "execute_result"
    }
   ],
   "source": [
    "# Grid search suggests that if we take C=100 we can further increase the accuracy to 98.3%\n",
    "# Lets initialize the model again with required param and see the changes in accuracy in following code\n",
    "\n",
    "classifierLRWithParam = LogisticRegression(random_state = 0, C = 100)\n",
    "classifierLRWithParam.fit(X_train, y_train)"
   ]
  },
  {
   "cell_type": "code",
   "execution_count": 16,
   "metadata": {},
   "outputs": [
    {
     "data": {
      "text/plain": [
       "array([[276,   3],\n",
       "       [  7, 177]], dtype=int64)"
      ]
     },
     "execution_count": 16,
     "metadata": {},
     "output_type": "execute_result"
    }
   ],
   "source": [
    "# Predicting the Test set results\n",
    "y_pred_LRWithParam = classifierLRWithParam.predict(X_test)\n",
    "\n",
    "# Making the Confusion Matrix\n",
    "confusion_matrix(y_test, y_pred_LRWithParam)"
   ]
  },
  {
   "cell_type": "code",
   "execution_count": 17,
   "metadata": {},
   "outputs": [
    {
     "name": "stdout",
     "output_type": "stream",
     "text": [
      "Final Accuracy: 98.32%\n",
      "Final Accuracy STD: 1.06%\n",
      "Precision: 0.98\n",
      "Recall: 0.96\n",
      "F1 Score: 0.97\n"
     ]
    }
   ],
   "source": [
    "accuracies = cross_val_score(estimator = classifierLRWithParam, X = X_train, y = y_train, cv = 10)\n",
    "print(\"Final Accuracy: {}%\".format(round(accuracies.mean()*100, 2))) \n",
    "print(\"Final Accuracy STD: {}%\".format(round(accuracies.std()*100, 2)))\n",
    "print(\"Precision: {}\".format(round(precision_score(y_test, y_pred_LRWithParam), 2)))\n",
    "print(\"Recall: {}\".format(round(recall_score(y_test, y_pred_LRWithParam), 2)))\n",
    "print(\"F1 Score: {}\".format(round(f1_score(y_test, y_pred_LRWithParam), 2)))"
   ]
  },
  {
   "cell_type": "code",
   "execution_count": 18,
   "metadata": {},
   "outputs": [
    {
     "data": {
      "text/plain": [
       "array([[257,  22],\n",
       "       [ 62, 122]], dtype=int64)"
      ]
     },
     "execution_count": 18,
     "metadata": {},
     "output_type": "execute_result"
    }
   ],
   "source": [
    "# Yes, we have achevied btter accuracy i.e 98% which is really good. Also other metrics are also mind blowing\n",
    "# We can go further with dimensionality reduction to see if there is any scope of improvement.\n",
    "# Intitution behind taking dimensionality in consideration is that not all feature help in getting good result sometimes, \n",
    "# so we will check if its possible to improve model by reducing the dimensionalty to 2\n",
    "\n",
    "# ===========Applying PCA=================\n",
    "pca = PCA(n_components = 2)\n",
    "X_train_PCA = pca.fit_transform(X_train)\n",
    "X_test_PCA = pca.transform(X_test)\n",
    "explained_variance = pca.explained_variance_ratio_\n",
    "\n",
    "# Fitting Logistic Regression to the Training set\n",
    "classifierLR_PCA = LogisticRegression(random_state = 0)\n",
    "classifierLR_PCA.fit(X_train_PCA, y_train)\n",
    "\n",
    "# Predicting the Test set results\n",
    "y_pred_PCA = classifierLR_PCA.predict(X_test_PCA)\n",
    "\n",
    "# Making the Confusion Matrix\n",
    "from sklearn.metrics import confusion_matrix\n",
    "confusion_matrix(y_test, y_pred_PCA)"
   ]
  },
  {
   "cell_type": "code",
   "execution_count": 21,
   "metadata": {},
   "outputs": [
    {
     "data": {
      "image/png": "[encoded data removed]",
      "text/plain": [
       "<matplotlib.figure.Figure at 0x1dc91d79518>"
      ]
     },
     "metadata": {},
     "output_type": "display_data"
    },
    {
     "data": {
      "image/png": "[encoded data removed]",
      "text/plain": [
       "<matplotlib.figure.Figure at 0x1dc91e4a710>"
      ]
     },
     "metadata": {},
     "output_type": "display_data"
    }
   ],
   "source": [
    "# As we have got dimensionality reduced to 2, that will be easy to visualize the data and prediction boundaries, \n",
    "# and also check if data is linearly seperable or not\n",
    "\n",
    "# Visualising the Training set results\n",
    "from matplotlib.colors import ListedColormap\n",
    "X_set, y_set = X_train_PCA, y_train\n",
    "X1, X2 = np.meshgrid(np.arange(start = X_set[:, 0].min() - 1, stop = X_set[:, 0].max() + 1, step = 0.01),\n",
    "                     np.arange(start = X_set[:, 1].min() - 1, stop = X_set[:, 1].max() + 1, step = 0.01))\n",
    "plt.contourf(X1, X2, classifierLR_PCA.predict(np.array([X1.ravel(), X2.ravel()]).T).reshape(X1.shape),\n",
    "             alpha = 0.75, cmap = ListedColormap(('red', 'green', 'blue')))\n",
    "plt.xlim(X1.min(), X1.max())\n",
    "plt.ylim(X2.min(), X2.max())\n",
    "for i, j in enumerate(np.unique(y_set)):\n",
    "    plt.scatter(X_set[y_set == j, 0], X_set[y_set == j, 1],\n",
    "                c = ListedColormap(('red', 'green', 'blue'))(i), label = j)\n",
    "plt.title('Logistic Regression (Training set)')\n",
    "plt.xlabel('PC1')\n",
    "plt.ylabel('PC2')\n",
    "plt.legend()\n",
    "plt.show()\n",
    "\n",
    "# Visualising the Test set results\n",
    "from matplotlib.colors import ListedColormap\n",
    "X_set, y_set = X_test_PCA, y_test\n",
    "X1, X2 = np.meshgrid(np.arange(start = X_set[:, 0].min() - 1, stop = X_set[:, 0].max() + 1, step = 0.01),\n",
    "                     np.arange(start = X_set[:, 1].min() - 1, stop = X_set[:, 1].max() + 1, step = 0.01))\n",
    "plt.contourf(X1, X2, classifierLR_PCA.predict(np.array([X1.ravel(), X2.ravel()]).T).reshape(X1.shape),\n",
    "             alpha = 0.75, cmap = ListedColormap(('red', 'green', 'blue')))\n",
    "plt.xlim(X1.min(), X1.max())\n",
    "plt.ylim(X2.min(), X2.max())\n",
    "for i, j in enumerate(np.unique(y_set)):\n",
    "    plt.scatter(X_set[y_set == j, 0], X_set[y_set == j, 1],\n",
    "                c = ListedColormap(('red', 'green', 'blue'))(i), label = j)\n",
    "plt.title('Logistic Regression (Test set)')\n",
    "plt.xlabel('PC1')\n",
    "plt.ylabel('PC2')\n",
    "plt.legend()\n",
    "plt.show()"
   ]
  },
  {
   "cell_type": "code",
   "execution_count": 22,
   "metadata": {},
   "outputs": [
    {
     "name": "stdout",
     "output_type": "stream",
     "text": [
      "Number of features left after backward elimination: 9\n"
     ]
    }
   ],
   "source": [
    "# Actually, it has given worse accuracy, that means all feature are important in taking desicion in this particular case of ours\n",
    "# Lets prove this by implementing Backward Elimination method and see if that removes any feature that is not participating significantly\n",
    "\n",
    "\n",
    "# ============Backward elimination===============\n",
    "import statsmodels.formula.api as sm\n",
    "def backwardElimination(x, sl):\n",
    "    numVars = len(x[0])\n",
    "    for i in range(0, numVars):\n",
    "        regressor_OLS = sm.OLS(y, x).fit()\n",
    "        maxVar = max(regressor_OLS.pvalues).astype(float)\n",
    "        if maxVar > sl:\n",
    "            for j in range(0, numVars - i):\n",
    "                if (regressor_OLS.pvalues[j].astype(float) == maxVar):\n",
    "                    x = np.delete(x, j, 1)\n",
    "    regressor_OLS.summary()\n",
    "    return x\n",
    " \n",
    "SL = 0.05\n",
    "X_opt = X[:, 0:9]\n",
    "X_Modeled = backwardElimination(X_opt, SL)\n",
    "\n",
    "print(\"Number of features left after backward elimination: {}\".format(len(X_Modeled[0])))"
   ]
  },
  {
   "cell_type": "code",
   "execution_count": 23,
   "metadata": {},
   "outputs": [
    {
     "data": {
      "text/html": [
       "<table class=\"simpletable\">\n",
       "<caption>OLS Regression Results</caption>\n",
       "<tr>\n",
       "  <th>Dep. Variable:</th>            <td>y</td>        <th>  R-squared:         </th> <td>   0.785</td>\n",
       "</tr>\n",
       "<tr>\n",
       "  <th>Model:</th>                   <td>OLS</td>       <th>  Adj. R-squared:    </th> <td>   0.784</td>\n",
       "</tr>\n",
       "<tr>\n",
       "  <th>Method:</th>             <td>Least Squares</td>  <th>  F-statistic:       </th> <td>   935.0</td>\n",
       "</tr>\n",
       "<tr>\n",
       "  <th>Date:</th>             <td>Wed, 16 May 2018</td> <th>  Prob (F-statistic):</th>  <td>  0.00</td> \n",
       "</tr>\n",
       "<tr>\n",
       "  <th>Time:</th>                 <td>22:17:50</td>     <th>  Log-Likelihood:    </th> <td> -412.39</td>\n",
       "</tr>\n",
       "<tr>\n",
       "  <th>No. Observations:</th>      <td>  2313</td>      <th>  AIC:               </th> <td>   842.8</td>\n",
       "</tr>\n",
       "<tr>\n",
       "  <th>Df Residuals:</th>          <td>  2304</td>      <th>  BIC:               </th> <td>   894.5</td>\n",
       "</tr>\n",
       "<tr>\n",
       "  <th>Df Model:</th>              <td>     9</td>      <th>                     </th>     <td> </td>   \n",
       "</tr>\n",
       "<tr>\n",
       "  <th>Covariance Type:</th>      <td>nonrobust</td>    <th>                     </th>     <td> </td>   \n",
       "</tr>\n",
       "</table>\n",
       "<table class=\"simpletable\">\n",
       "<tr>\n",
       "   <td></td>     <th>coef</th>     <th>std err</th>      <th>t</th>      <th>P>|t|</th>  <th>[0.025</th>    <th>0.975]</th>  \n",
       "</tr>\n",
       "<tr>\n",
       "  <th>x1</th> <td>   -0.6882</td> <td>    0.040</td> <td>  -17.098</td> <td> 0.000</td> <td>   -0.767</td> <td>   -0.609</td>\n",
       "</tr>\n",
       "<tr>\n",
       "  <th>x2</th> <td>   -0.7172</td> <td>    0.028</td> <td>  -25.797</td> <td> 0.000</td> <td>   -0.772</td> <td>   -0.663</td>\n",
       "</tr>\n",
       "<tr>\n",
       "  <th>x3</th> <td>   -1.0828</td> <td>    0.036</td> <td>  -30.392</td> <td> 0.000</td> <td>   -1.153</td> <td>   -1.013</td>\n",
       "</tr>\n",
       "<tr>\n",
       "  <th>x4</th> <td>   -0.0983</td> <td>    0.015</td> <td>   -6.552</td> <td> 0.000</td> <td>   -0.128</td> <td>   -0.069</td>\n",
       "</tr>\n",
       "<tr>\n",
       "  <th>x5</th> <td>   -0.0001</td> <td> 4.35e-05</td> <td>   -2.998</td> <td> 0.003</td> <td>   -0.000</td> <td>-4.51e-05</td>\n",
       "</tr>\n",
       "<tr>\n",
       "  <th>x6</th> <td>    0.0165</td> <td>    0.001</td> <td>   24.044</td> <td> 0.000</td> <td>    0.015</td> <td>    0.018</td>\n",
       "</tr>\n",
       "<tr>\n",
       "  <th>x7</th> <td>   -0.0757</td> <td>    0.019</td> <td>   -3.909</td> <td> 0.000</td> <td>   -0.114</td> <td>   -0.038</td>\n",
       "</tr>\n",
       "<tr>\n",
       "  <th>x8</th> <td>    0.0003</td> <td> 6.43e-05</td> <td>    4.049</td> <td> 0.000</td> <td>    0.000</td> <td>    0.000</td>\n",
       "</tr>\n",
       "<tr>\n",
       "  <th>x9</th> <td>    0.0008</td> <td>  2.9e-05</td> <td>   29.147</td> <td> 0.000</td> <td>    0.001</td> <td>    0.001</td>\n",
       "</tr>\n",
       "</table>\n",
       "<table class=\"simpletable\">\n",
       "<tr>\n",
       "  <th>Omnibus:</th>       <td>72.336</td> <th>  Durbin-Watson:     </th> <td>   1.003</td>\n",
       "</tr>\n",
       "<tr>\n",
       "  <th>Prob(Omnibus):</th> <td> 0.000</td> <th>  Jarque-Bera (JB):  </th> <td> 102.325</td>\n",
       "</tr>\n",
       "<tr>\n",
       "  <th>Skew:</th>          <td>-0.322</td> <th>  Prob(JB):          </th> <td>6.03e-23</td>\n",
       "</tr>\n",
       "<tr>\n",
       "  <th>Kurtosis:</th>      <td> 3.805</td> <th>  Cond. No.          </th> <td>2.39e+04</td>\n",
       "</tr>\n",
       "</table>"
      ],
      "text/plain": [
       "<class 'statsmodels.iolib.summary.Summary'>\n",
       "\"\"\"\n",
       "                            OLS Regression Results                            \n",
       "==============================================================================\n",
       "Dep. Variable:                      y   R-squared:                       0.785\n",
       "Model:                            OLS   Adj. R-squared:                  0.784\n",
       "Method:                 Least Squares   F-statistic:                     935.0\n",
       "Date:                Wed, 16 May 2018   Prob (F-statistic):               0.00\n",
       "Time:                        22:17:50   Log-Likelihood:                -412.39\n",
       "No. Observations:                2313   AIC:                             842.8\n",
       "Df Residuals:                    2304   BIC:                             894.5\n",
       "Df Model:                           9                                         \n",
       "Covariance Type:            nonrobust                                         \n",
       "==============================================================================\n",
       "                 coef    std err          t      P>|t|      [0.025      0.975]\n",
       "------------------------------------------------------------------------------\n",
       "x1            -0.6882      0.040    -17.098      0.000      -0.767      -0.609\n",
       "x2            -0.7172      0.028    -25.797      0.000      -0.772      -0.663\n",
       "x3            -1.0828      0.036    -30.392      0.000      -1.153      -1.013\n",
       "x4            -0.0983      0.015     -6.552      0.000      -0.128      -0.069\n",
       "x5            -0.0001   4.35e-05     -2.998      0.003      -0.000   -4.51e-05\n",
       "x6             0.0165      0.001     24.044      0.000       0.015       0.018\n",
       "x7            -0.0757      0.019     -3.909      0.000      -0.114      -0.038\n",
       "x8             0.0003   6.43e-05      4.049      0.000       0.000       0.000\n",
       "x9             0.0008    2.9e-05     29.147      0.000       0.001       0.001\n",
       "==============================================================================\n",
       "Omnibus:                       72.336   Durbin-Watson:                   1.003\n",
       "Prob(Omnibus):                  0.000   Jarque-Bera (JB):              102.325\n",
       "Skew:                          -0.322   Prob(JB):                     6.03e-23\n",
       "Kurtosis:                       3.805   Cond. No.                     2.39e+04\n",
       "==============================================================================\n",
       "\n",
       "Warnings:\n",
       "[1] Standard Errors assume that the covariance matrix of the errors is correctly specified.\n",
       "[2] The condition number is large, 2.39e+04. This might indicate that there are\n",
       "strong multicollinearity or other numerical problems.\n",
       "\"\"\""
      ]
     },
     "execution_count": 23,
     "metadata": {},
     "output_type": "execute_result"
    }
   ],
   "source": [
    "# Everything is as it is, let probe more into it. \n",
    "# Lets print out the regression summary and check P value to determin significance of all features\n",
    "# SL has been selected to 0.05\n",
    "\n",
    "\n",
    "regressor_OLS = sm.OLS(y, X_opt).fit()\n",
    "regressor_OLS.summary()"
   ]
  },
  {
   "cell_type": "code",
   "execution_count": 24,
   "metadata": {
    "collapsed": true
   },
   "outputs": [],
   "source": [
    "# As we can see that p value of all feature is less than the significance level. Hence proved"
   ]
  },
  {
   "cell_type": "code",
   "execution_count": 25,
   "metadata": {},
   "outputs": [
    {
     "data": {
      "text/plain": [
       "SVC(C=1.0, cache_size=200, class_weight=None, coef0=0.0,\n",
       "  decision_function_shape='ovr', degree=3, gamma='auto', kernel='rbf',\n",
       "  max_iter=-1, probability=False, random_state=0, shrinking=True,\n",
       "  tol=0.001, verbose=False)"
      ]
     },
     "execution_count": 25,
     "metadata": {},
     "output_type": "execute_result"
    }
   ],
   "source": [
    "# ================================================ Data Modelling: Model 2 ======================================================\n",
    "# As we have selected a linear model before, lets try with non linear model, eg: Kernel SVM(Gaussian)\n",
    "# data has been imported and cleaned aready. we will start with modelling straightly\n",
    "\n",
    "# Fitting Kernel SVM to the Training set\n",
    "classifierSVM = SVC(kernel = 'rbf', random_state = 0)\n",
    "classifierSVM.fit(X_train, y_train)"
   ]
  },
  {
   "cell_type": "code",
   "execution_count": 26,
   "metadata": {},
   "outputs": [
    {
     "data": {
      "text/plain": [
       "array([[272,   7],\n",
       "       [ 10, 174]], dtype=int64)"
      ]
     },
     "execution_count": 26,
     "metadata": {},
     "output_type": "execute_result"
    }
   ],
   "source": [
    "# Predicting the Test set results\n",
    "y_pred_SVM = classifierSVM.predict(X_test)\n",
    "\n",
    "# Making the Confusion Matrix\n",
    "confusion_matrix(y_test, y_pred_SVM)"
   ]
  },
  {
   "cell_type": "code",
   "execution_count": 27,
   "metadata": {},
   "outputs": [
    {
     "name": "stdout",
     "output_type": "stream",
     "text": [
      "Accuracy: 96.27%\n",
      "Accuracy STD: 1.44%\n"
     ]
    }
   ],
   "source": [
    "# Applying k-Fold Cross Validation\n",
    "accuracies = cross_val_score(estimator = classifierSVM, X = X_train, y = y_train, cv = 10)\n",
    "print(\"Accuracy: {}%\".format(round(accuracies.mean()*100, 2))) \n",
    "print(\"Accuracy STD: {}%\".format(round(accuracies.std()*100, 2)))"
   ]
  },
  {
   "cell_type": "code",
   "execution_count": 28,
   "metadata": {},
   "outputs": [
    {
     "name": "stdout",
     "output_type": "stream",
     "text": [
      "Grid Search result: Best Score = 0.9886486486486487 Best Param = {'C': 100, 'gamma': 0.1, 'kernel': 'rbf'}\n"
     ]
    }
   ],
   "source": [
    "# Applying Grid Search to find the best model and the best parameters\n",
    "parameters = [{'C': [1, 10, 100, 1000], 'kernel': ['linear']},\n",
    "              {'C': [1, 10, 100, 1000], 'kernel': ['rbf'], 'gamma': [0.1, 0.2, 0.3, 0.4, 0.5, 0.6, 0.7, 0.8, 0.9]}]\n",
    "grid_search = GridSearchCV(estimator = classifierSVM,\n",
    "                           param_grid = parameters,\n",
    "                           scoring = 'accuracy',\n",
    "                           cv = 10)\n",
    "grid_search = grid_search.fit(X_train, y_train)\n",
    "best_accuracy = grid_search.best_score_\n",
    "best_parameters = grid_search.best_params_\n",
    "print(\"Grid Search result: Best Score = {} Best Param = {}\".format(grid_search.best_score_,grid_search.best_params_))"
   ]
  },
  {
   "cell_type": "code",
   "execution_count": 29,
   "metadata": {},
   "outputs": [
    {
     "data": {
      "text/plain": [
       "SVC(C=100, cache_size=200, class_weight=None, coef0=0.0,\n",
       "  decision_function_shape='ovr', degree=3, gamma=0.1, kernel='rbf',\n",
       "  max_iter=-1, probability=False, random_state=0, shrinking=True,\n",
       "  tol=0.001, verbose=False)"
      ]
     },
     "execution_count": 29,
     "metadata": {},
     "output_type": "execute_result"
    }
   ],
   "source": [
    "# Grid search suggests that if we take C=100 we can further increase the accuracy to 98.87%\n",
    "# Lets initialize the model again with required param and see the changes in accuracy in following code\n",
    "\n",
    "classifierSVMwithParam = SVC(kernel = 'rbf', random_state = 0, C = 100, gamma = 0.1)\n",
    "classifierSVMwithParam.fit(X_train, y_train)"
   ]
  },
  {
   "cell_type": "code",
   "execution_count": 30,
   "metadata": {},
   "outputs": [
    {
     "data": {
      "text/plain": [
       "array([[278,   1],\n",
       "       [  4, 180]], dtype=int64)"
      ]
     },
     "execution_count": 30,
     "metadata": {},
     "output_type": "execute_result"
    }
   ],
   "source": [
    "# Predicting the Test set results\n",
    "y_pred_SVMwithParam = classifierSVMwithParam.predict(X_test)\n",
    "\n",
    "# Making the Confusion Matrix\n",
    "confusion_matrix(y_test, y_pred_SVMwithParam)"
   ]
  },
  {
   "cell_type": "code",
   "execution_count": 31,
   "metadata": {},
   "outputs": [
    {
     "name": "stdout",
     "output_type": "stream",
     "text": [
      "Final Accuracy: 98.87%\n",
      "Final Accuracy STD: 0.7%\n",
      "Precision: 0.99\n",
      "Recall: 0.98\n",
      "F1 Score: 0.99\n"
     ]
    }
   ],
   "source": [
    "accuracies = cross_val_score(estimator = classifierSVMwithParam, X = X_train, y = y_train, cv = 10)\n",
    "print(\"Final Accuracy: {}%\".format(round(accuracies.mean()*100, 2))) \n",
    "print(\"Final Accuracy STD: {}%\".format(round(accuracies.std()*100, 2)))\n",
    "print(\"Precision: {}\".format(round(precision_score(y_test, y_pred_SVMwithParam), 2)))\n",
    "print(\"Recall: {}\".format(round(recall_score(y_test, y_pred_SVMwithParam), 2)))\n",
    "print(\"F1 Score: {}\".format(round(f1_score(y_test, y_pred_SVMwithParam), 2)))"
   ]
  },
  {
   "cell_type": "code",
   "execution_count": 32,
   "metadata": {},
   "outputs": [
    {
     "data": {
      "text/plain": [
       "RandomForestClassifier(bootstrap=True, class_weight=None, criterion='entropy',\n",
       "            max_depth=None, max_features='auto', max_leaf_nodes=None,\n",
       "            min_impurity_decrease=0.0, min_impurity_split=None,\n",
       "            min_samples_leaf=1, min_samples_split=2,\n",
       "            min_weight_fraction_leaf=0.0, n_estimators=10, n_jobs=1,\n",
       "            oob_score=False, random_state=0, verbose=0, warm_start=False)"
      ]
     },
     "execution_count": 32,
     "metadata": {},
     "output_type": "execute_result"
    }
   ],
   "source": [
    "# ================================================ Data Modelling: Model 3 ======================================================\n",
    "\n",
    "# Fitting Random Forest Classification to the Training set\n",
    "classifierRM = RandomForestClassifier(n_estimators = 10, criterion = 'entropy', random_state = 0)\n",
    "classifierRM.fit(X_train, y_train)"
   ]
  },
  {
   "cell_type": "code",
   "execution_count": 33,
   "metadata": {},
   "outputs": [
    {
     "data": {
      "text/plain": [
       "array([[278,   1],\n",
       "       [  5, 179]], dtype=int64)"
      ]
     },
     "execution_count": 33,
     "metadata": {},
     "output_type": "execute_result"
    }
   ],
   "source": [
    "# Predicting the Test set results\n",
    "y_pred_RM = classifierRM.predict(X_test)\n",
    "\n",
    "# Making the Confusion Matrix\n",
    "confusion_matrix(y_test, y_pred_RM)\n",
    "\n",
    "# As we can see that accuracy before Grid Search by looking at Confusion Matrix is already bery high so there is no need of \n",
    "# doing grid search and lets set this to our final accuracy"
   ]
  },
  {
   "cell_type": "code",
   "execution_count": 34,
   "metadata": {},
   "outputs": [
    {
     "name": "stdout",
     "output_type": "stream",
     "text": [
      "Final Accuracy: 99.24%\n",
      "Final Accuracy STD: 0.43%\n",
      "Precision: 0.99\n",
      "Recall: 0.97\n",
      "F1 Score: 0.98\n"
     ]
    }
   ],
   "source": [
    "# Applying k-Fold Cross Validation\n",
    "accuracies = cross_val_score(estimator = classifierRM, X = X_train, y = y_train, cv = 10)\n",
    "print(\"Final Accuracy: {}%\".format(round(accuracies.mean()*100, 2))) \n",
    "print(\"Final Accuracy STD: {}%\".format(round(accuracies.std()*100, 2)))\n",
    "print(\"Precision: {}\".format(round(precision_score(y_test, y_pred_RM), 2)))\n",
    "print(\"Recall: {}\".format(round(recall_score(y_test, y_pred_RM), 2)))\n",
    "print(\"F1 Score: {}\".format(round(f1_score(y_test, y_pred_RM), 2)))"
   ]
  }
 ],
 "metadata": {
  "kernelspec": {
   "display_name": "Python 3",
   "language": "python",
   "name": "python3"
  },
  "language_info": {
   "codemirror_mode": {
    "name": "ipython",
    "version": 3
   },
   "file_extension": ".py",
   "mimetype": "text/x-python",
   "name": "python",
   "nbconvert_exporter": "python",
   "pygments_lexer": "ipython3",
   "version": "3.6.3"
  }
 },
 "nbformat": 4,
 "nbformat_minor": 2
}
